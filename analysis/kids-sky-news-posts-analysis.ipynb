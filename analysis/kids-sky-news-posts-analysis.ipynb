{
 "cells": [
  {
   "cell_type": "markdown",
   "metadata": {
    "collapsed": false
   },
   "source": [
    "# Sky News influencer post analysis"
   ]
  },
  {
   "cell_type": "code",
   "execution_count": null,
   "metadata": {
    "collapsed": false
   },
   "outputs": [],
   "source": [
    "data_path = '../../Projects/jaifp/influ-post-import/data/analysis/'\n",
    "posts_file = 'kids-sky-news_posts.csv'\n",
    "profile_file = 'kids-sky-news_profiles.csv'\n",
    "lan = 'en'"
   ]
  },
  {
   "cell_type": "code",
   "execution_count": null,
   "metadata": {
    "collapsed": false
   },
   "outputs": [],
   "source": [
    "# !pip install numpy\n",
    "# !pip install pandas\n",
    "# !pip install nltk\n",
    "# !pip install deep-translator\n",
    "# !pip install seaborn\n",
    "# !pip install matplotlib\n",
    "# !pip install plotly"
   ]
  },
  {
   "cell_type": "code",
   "execution_count": null,
   "metadata": {
    "collapsed": false
   },
   "outputs": [],
   "source": [
    "import numpy as np\n",
    "from numpy import nan\n",
    "import pandas as pd\n",
    "from pprint import pprint\n",
    "import seaborn as sns\n",
    "import plotly.express as px\n",
    "import matplotlib.pyplot as plt\n",
    "# sns.set_context(\"talk\")"
   ]
  },
  {
   "cell_type": "code",
   "execution_count": null,
   "metadata": {
    "collapsed": false
   },
   "outputs": [],
   "source": [
    "plt.figure(figsize=(8,3))\n",
    "sns.set(font_scale=0.9)\n",
    "sns.set_style('whitegrid')"
   ]
  },
  {
   "cell_type": "code",
   "execution_count": null,
   "metadata": {
    "collapsed": false
   },
   "outputs": [],
   "source": [
    "df = pd.read_csv(data_path + posts_file, sep='|')\n",
    "print(f\"dataset {posts_file} dimension: {df.shape}\")"
   ]
  },
  {
   "cell_type": "code",
   "execution_count": null,
   "metadata": {
    "collapsed": false
   },
   "outputs": [],
   "source": [
    "df.sample()"
   ]
  },
  {
   "cell_type": "markdown",
   "metadata": {
    "collapsed": false
   },
   "source": [
    "Categorical and numerical variables:"
   ]
  },
  {
   "cell_type": "code",
   "execution_count": null,
   "metadata": {
    "collapsed": false
   },
   "outputs": [],
   "source": [
    "df.info()"
   ]
  },
  {
   "cell_type": "code",
   "execution_count": null,
   "metadata": {
    "collapsed": false
   },
   "outputs": [],
   "source": [
    "df['owner_id'] = df['owner_id'].astype(str)\n",
    "df['post_date'] = pd.to_datetime(df['date'])\n",
    "print(df[['owner_id', 'post_date']].dtypes)\n",
    "print(df[['date', 'post_date']].sample())"
   ]
  },
  {
   "cell_type": "code",
   "execution_count": null,
   "metadata": {
    "collapsed": false
   },
   "outputs": [],
   "source": [
    "if 'date' in df.columns:\n",
    "    df = df.drop(['date'], axis=1)"
   ]
  },
  {
   "cell_type": "code",
   "execution_count": null,
   "metadata": {
    "collapsed": false
   },
   "outputs": [],
   "source": [
    "df.columns"
   ]
  },
  {
   "cell_type": "markdown",
   "metadata": {
    "collapsed": false
   },
   "source": [
    "Missing values:"
   ]
  },
  {
   "cell_type": "code",
   "execution_count": null,
   "metadata": {
    "collapsed": false
   },
   "outputs": [],
   "source": [
    "df.isnull().sum()"
   ]
  },
  {
   "cell_type": "markdown",
   "metadata": {
    "collapsed": false
   },
   "source": [
    "Unique values:"
   ]
  },
  {
   "cell_type": "code",
   "execution_count": null,
   "metadata": {
    "collapsed": false
   },
   "outputs": [],
   "source": [
    "cat = df.select_dtypes('object')\n",
    "cat.nunique()"
   ]
  },
  {
   "cell_type": "code",
   "execution_count": null,
   "metadata": {
    "collapsed": false
   },
   "outputs": [],
   "source": [
    "# For each categorical column the unique values and their frequency\n",
    "'''for col in cat.columns:\n",
    "    print(f\"Column: {col}\\n\")\n",
    "    print(cat[col].value_counts())\n",
    "    print('\\n****************')'''"
   ]
  },
  {
   "cell_type": "markdown",
   "metadata": {
    "collapsed": false
   },
   "source": [
    "Shared functions:"
   ]
  },
  {
   "cell_type": "code",
   "execution_count": null,
   "metadata": {
    "collapsed": false
   },
   "outputs": [],
   "source": [
    "def print_value_counts(dataframe, value):\n",
    "    print(f\"Column: {value}\")\n",
    "    print(dataframe[value].value_counts())"
   ]
  },
  {
   "cell_type": "markdown",
   "metadata": {
    "collapsed": false
   },
   "source": [
    "Import profile file:"
   ]
  },
  {
   "cell_type": "code",
   "execution_count": null,
   "metadata": {
    "collapsed": false
   },
   "outputs": [],
   "source": [
    "df_profile = pd.read_csv(data_path + profile_file, sep='|')"
   ]
  },
  {
   "cell_type": "code",
   "execution_count": null,
   "metadata": {
    "collapsed": false
   },
   "outputs": [],
   "source": [
    "df_merged = pd.merge(left=df, right=df_profile, how='left', left_on='account', right_on='username')\n",
    "df_merged.sample()"
   ]
  },
  {
   "cell_type": "code",
   "execution_count": null,
   "metadata": {
    "collapsed": false
   },
   "outputs": [],
   "source": [
    "df_merged.shape"
   ]
  },
  {
   "cell_type": "code",
   "execution_count": null,
   "metadata": {
    "collapsed": false
   },
   "outputs": [],
   "source": [
    "df_merged.columns"
   ]
  },
  {
   "cell_type": "markdown",
   "metadata": {
    "collapsed": false
   },
   "source": [
    "## 1. isVideo\n",
    "How popular is the use of video?"
   ]
  },
  {
   "cell_type": "code",
   "execution_count": null,
   "metadata": {
    "collapsed": false
   },
   "outputs": [],
   "source": [
    "print_value_counts(df, 'is_video')\n",
    "print(\"\\nProportion:\")\n",
    "print(f\"False: {round(df['is_video'].value_counts()[0] / df.shape[0] * 100, 1)}%\")\n",
    "print(f\"True: {round(df['is_video'].value_counts()[1] / df.shape[0] * 100, 1)}%\")"
   ]
  },
  {
   "cell_type": "code",
   "execution_count": null,
   "metadata": {
    "collapsed": false
   },
   "outputs": [],
   "source": [
    "sns.countplot(x='is_video', data=df)"
   ]
  },
  {
   "cell_type": "code",
   "execution_count": null,
   "metadata": {
    "collapsed": false
   },
   "outputs": [],
   "source": [
    "print_value_counts(df, 'product_type')"
   ]
  },
  {
   "cell_type": "code",
   "execution_count": null,
   "metadata": {
    "collapsed": false
   },
   "outputs": [],
   "source": [
    "print(\"\\nProportion:\")\n",
    "for idx, name in enumerate(df['product_type'].value_counts().index.tolist()):\n",
    "    print(f\"{name}: {round(df['product_type'].value_counts()[idx] / df.shape[0] * 100, 1)}%\")"
   ]
  },
  {
   "cell_type": "code",
   "execution_count": null,
   "metadata": {
    "collapsed": false
   },
   "outputs": [],
   "source": [
    "sns.countplot(x='product_type', data=df)"
   ]
  },
  {
   "cell_type": "markdown",
   "metadata": {
    "collapsed": false
   },
   "source": [
    "## 2. Caption\n",
    "Hashtags and mentioned, but also the position these appear. Is there any difference when we have the word #ad, #adverstisement, #gifted, #advert, #advertising, #sponsored"
   ]
  },
  {
   "cell_type": "code",
   "execution_count": null,
   "metadata": {
    "collapsed": false
   },
   "outputs": [],
   "source": [
    "most_10_freq_hs_group = pd.Series(df['hashtags']).value_counts()[:10].to_frame()\n",
    "most_10_freq_hs_group"
   ]
  },
  {
   "cell_type": "code",
   "execution_count": null,
   "metadata": {
    "collapsed": false
   },
   "outputs": [],
   "source": [
    "df['hashtags_list'] = df['hashtags'].apply(lambda x: str(x).replace(\",\", \"\").split())\n",
    "hashtags_list = []\n",
    "for val in df.hashtags_list.values:\n",
    "    hashtags_list.extend(val)\n",
    "\n",
    "hashtags_list = [h for h in hashtags_list if not h == 'nan']\n",
    "unique_hashtags_list = list(set(hashtags_list))\n",
    "print(f\"{len(unique_hashtags_list)} unique hashtags found\")"
   ]
  },
  {
   "cell_type": "code",
   "execution_count": null,
   "metadata": {
    "collapsed": false
   },
   "outputs": [],
   "source": [
    "import collections\n",
    "hs_frequency = collections.Counter(hashtags_list)\n",
    "hs_freq_dict = dict(hs_frequency)\n",
    "sorted_hs_freq = sorted(hs_freq_dict.items(), key=lambda x: x[1], reverse=True)\n",
    "sorted_hs_freq_dict = dict(sorted_hs_freq[:20])\n",
    "print(\"Most frequent hashtags:\")\n",
    "print(sorted_hs_freq_dict)"
   ]
  },
  {
   "cell_type": "code",
   "execution_count": null,
   "metadata": {
    "collapsed": false
   },
   "outputs": [],
   "source": [
    "adv_list = ['#ad ', '#adverstisement ', '#gifted', '#collaborazione ', '#advert ', '#advertising',\n",
    "            '#sponsored']  # keep space after #ad avoids matching with hashtags such as #adorable\n",
    "\n",
    "def check_adv(text, w_list):\n",
    "    if any(word in text for word in w_list):\n",
    "        return True\n",
    "    else:\n",
    "        return False\n",
    "\n",
    "df['caption_adv'] = df.apply(lambda x: check_adv(str(x['caption']), adv_list), axis=1)\n",
    "print_value_counts(df, 'caption_adv')"
   ]
  },
  {
   "cell_type": "code",
   "execution_count": null,
   "metadata": {
    "collapsed": false
   },
   "outputs": [],
   "source": [
    "df[df['caption_adv'] == True].sample()"
   ]
  },
  {
   "cell_type": "code",
   "execution_count": null,
   "metadata": {
    "collapsed": false
   },
   "outputs": [],
   "source": [
    "# check in the first characters because hashtag can be at the beginning of the caption but not the first word.\n",
    "def start_with_adv(text, w_list):\n",
    "    first_characters = text[:40]\n",
    "    if any(word in first_characters for word in w_list):\n",
    "        return True\n",
    "    else:\n",
    "        return False\n",
    "\n",
    "df['start_with_adv'] = df.apply(lambda x: start_with_adv(str(x['caption']), adv_list), axis=1)\n",
    "print_value_counts(df, 'start_with_adv')"
   ]
  },
  {
   "cell_type": "code",
   "execution_count": null,
   "metadata": {
    "collapsed": false
   },
   "outputs": [],
   "source": [
    "df[df['start_with_adv'] == True].sample()"
   ]
  },
  {
   "cell_type": "markdown",
   "metadata": {
    "collapsed": false
   },
   "source": [
    "## 3. Should_request_ads\n",
    "Should_request_ads field: for how many accounts this is = True? Are those posts with this = True business accounts? Which are the tags and mentions more commons?\n",
    "[Meta - About Advertising Restrictions](https://www.facebook.com/business/help/975570072950669?id=434838534925385)"
   ]
  },
  {
   "cell_type": "code",
   "execution_count": null,
   "metadata": {
    "collapsed": false
   },
   "outputs": [],
   "source": [
    "print_value_counts(df, 'should_request_ads')\n",
    "print(\"\\nProportion:\")\n",
    "print(f\"False: {round(df['should_request_ads'].value_counts()[0] / df.shape[0] * 100, 1)}%\")"
   ]
  },
  {
   "cell_type": "markdown",
   "metadata": {
    "collapsed": false
   },
   "source": [
    "## 4. Commerciality_status\n",
    "For how many of them this is = True? Are those posts with this = True business accounts? Is there any advertisement hashtag used when this is True?"
   ]
  },
  {
   "cell_type": "code",
   "execution_count": null,
   "metadata": {
    "collapsed": false
   },
   "outputs": [],
   "source": [
    "print_value_counts(df, 'commerciality_status')\n",
    "print(\"\\nProportion:\")\n",
    "print(f\"Not commercial: {round(df['commerciality_status'].value_counts()[0] / df.shape[0] * 100, 1)}%\")"
   ]
  },
  {
   "cell_type": "markdown",
   "metadata": {
    "collapsed": false
   },
   "source": [
    "## 5. is_paid_partnership\n",
    "For how many of them this is = True? For those with this = True, how many of them has also commerciality_status = commercial, and how many has should request ads = True? How many are business accounts? Is there any advertisement hashtag used when this is True? How many have the word mum in the bio/username?"
   ]
  },
  {
   "cell_type": "code",
   "execution_count": null,
   "metadata": {
    "collapsed": false
   },
   "outputs": [],
   "source": [
    "print_value_counts(df, 'is_paid_partnership')\n",
    "print(\"\\nProportion:\")\n",
    "print(f\"False: {round(df['is_paid_partnership'].value_counts()[0] / df.shape[0] * 100, 1)}%\")\n",
    "print(f\"True: {round(df['is_paid_partnership'].value_counts()[1] / df.shape[0] * 100, 1)}%\")"
   ]
  },
  {
   "cell_type": "code",
   "execution_count": null,
   "metadata": {
    "collapsed": false
   },
   "outputs": [],
   "source": [
    "pp_accounts = df[df['is_paid_partnership'] == True]\n",
    "pp_accounts.sample()"
   ]
  },
  {
   "cell_type": "code",
   "execution_count": null,
   "metadata": {
    "collapsed": false
   },
   "outputs": [],
   "source": [
    "pp_accounts_list = pp_accounts['account'].unique()\n",
    "print(f\"Number of unique accounts having is_paid_partnership = True is: {len(pp_accounts_list)}\")"
   ]
  },
  {
   "cell_type": "code",
   "execution_count": null,
   "metadata": {
    "collapsed": false
   },
   "outputs": [],
   "source": [
    "is_pp_and_ba = df_profile[(df_profile['username'].isin(pp_accounts_list)) & df_profile['is_business_account'] == True].shape[0]\n",
    "print(f\"Number of accounts having both is_paid_partnership and is_business_account = True is: {is_pp_and_ba}\")"
   ]
  }
 ],
 "metadata": {
  "kernelspec": {
   "display_name": "Python 3.8.10 64-bit",
   "language": "python",
   "name": "python3"
  },
  "language_info": {
   "codemirror_mode": {
    "name": "ipython",
    "version": 2
   },
   "file_extension": ".py",
   "mimetype": "text/x-python",
   "name": "python",
   "nbconvert_exporter": "python",
   "pygments_lexer": "ipython2",
   "version": "3.10.6"
  },
  "vscode": {
   "interpreter": {
    "hash": "916dbcbb3f70747c44a77c7bcd40155683ae19c65e1c03b4aa3499c5328201f1"
   }
  }
 },
 "nbformat": 4,
 "nbformat_minor": 0
}
