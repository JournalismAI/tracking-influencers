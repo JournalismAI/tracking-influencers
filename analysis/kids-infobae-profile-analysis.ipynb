{
 "cells": [
  {
   "cell_type": "markdown",
   "metadata": {},
   "source": [
    "# Infobae influencer profile analysis"
   ]
  },
  {
   "cell_type": "code",
   "execution_count": null,
   "metadata": {
    "collapsed": false,
    "jupyter": {
     "outputs_hidden": false
    }
   },
   "outputs": [],
   "source": [
    "data_path = '../../Projects/jaifp/influ-post-import/data/analysis/'\n",
    "posts_file = 'kids-infobae_posts.csv'\n",
    "profile_file = 'kids-infobae_profiles.csv'\n",
    "lan = 'es'"
   ]
  },
  {
   "cell_type": "code",
   "execution_count": null,
   "metadata": {},
   "outputs": [],
   "source": [
    "# !pip install numpy\n",
    "# !pip install pandas\n",
    "# !pip install nltk\n",
    "# !pip install deep-translator\n",
    "# !pip install seaborn\n",
    "# !pip install matplotlib\n",
    "# !pip install plotly"
   ]
  },
  {
   "cell_type": "code",
   "execution_count": null,
   "metadata": {
    "collapsed": false,
    "jupyter": {
     "outputs_hidden": false
    }
   },
   "outputs": [],
   "source": [
    "import numpy as np\n",
    "from numpy import nan\n",
    "import pandas as pd\n",
    "from pprint import pprint\n",
    "import seaborn as sns\n",
    "import plotly.express as px\n",
    "import matplotlib.pyplot as plt\n",
    "# sns.set_context(\"talk\")"
   ]
  },
  {
   "cell_type": "code",
   "execution_count": null,
   "metadata": {
    "collapsed": false
   },
   "outputs": [],
   "source": [
    "plt.figure(figsize=(8,3))\n",
    "sns.set(font_scale=0.9)\n",
    "sns.set_style('whitegrid')"
   ]
  },
  {
   "cell_type": "code",
   "execution_count": null,
   "metadata": {
    "collapsed": false,
    "jupyter": {
     "outputs_hidden": false
    }
   },
   "outputs": [],
   "source": [
    "df = pd.read_csv(data_path + profile_file, sep='|')\n",
    "print(f\"dataset {profile_file} dimension: {df.shape}\")"
   ]
  },
  {
   "cell_type": "code",
   "execution_count": null,
   "metadata": {
    "collapsed": false,
    "jupyter": {
     "outputs_hidden": false
    }
   },
   "outputs": [],
   "source": [
    "df.sample()"
   ]
  },
  {
   "cell_type": "markdown",
   "metadata": {
    "collapsed": false
   },
   "source": [
    "Categorical and numerical variables:"
   ]
  },
  {
   "cell_type": "code",
   "execution_count": null,
   "metadata": {
    "collapsed": false,
    "jupyter": {
     "outputs_hidden": false
    }
   },
   "outputs": [],
   "source": [
    "df.info()"
   ]
  },
  {
   "cell_type": "code",
   "execution_count": null,
   "metadata": {
    "collapsed": false
   },
   "outputs": [],
   "source": [
    "df['id'] = df['id'].astype(str)\n",
    "df.dtypes"
   ]
  },
  {
   "cell_type": "code",
   "execution_count": null,
   "metadata": {
    "collapsed": false,
    "jupyter": {
     "outputs_hidden": false
    }
   },
   "outputs": [],
   "source": [
    "df.columns"
   ]
  },
  {
   "cell_type": "markdown",
   "metadata": {
    "collapsed": false
   },
   "source": [
    "Missing values:"
   ]
  },
  {
   "cell_type": "code",
   "execution_count": null,
   "metadata": {
    "collapsed": false
   },
   "outputs": [],
   "source": [
    "df.isnull().sum()"
   ]
  },
  {
   "cell_type": "markdown",
   "metadata": {
    "collapsed": false
   },
   "source": [
    "Unique values:"
   ]
  },
  {
   "cell_type": "code",
   "execution_count": null,
   "metadata": {
    "collapsed": false,
    "jupyter": {
     "outputs_hidden": false
    }
   },
   "outputs": [],
   "source": [
    "cat = df.select_dtypes('object')\n",
    "cat.nunique()"
   ]
  },
  {
   "cell_type": "code",
   "execution_count": null,
   "metadata": {
    "collapsed": false,
    "jupyter": {
     "outputs_hidden": false
    }
   },
   "outputs": [],
   "source": [
    "# For each categorical column the unique values and their frequency\n",
    "'''for col in cat.columns:\n",
    "    print(f\"Column: {col}\\n\")\n",
    "    print(cat[col].value_counts())\n",
    "    print('\\n****************')'''"
   ]
  },
  {
   "cell_type": "markdown",
   "metadata": {
    "collapsed": false
   },
   "source": [
    "Shared functions:"
   ]
  },
  {
   "cell_type": "code",
   "execution_count": null,
   "metadata": {
    "collapsed": false
   },
   "outputs": [],
   "source": [
    "def print_value_counts(dataframe, value):\n",
    "    print(f\"Column: {value}\")\n",
    "    print(dataframe[value].value_counts())"
   ]
  },
  {
   "cell_type": "markdown",
   "metadata": {
    "collapsed": false
   },
   "source": [
    "Import posts file:"
   ]
  },
  {
   "cell_type": "code",
   "execution_count": null,
   "metadata": {
    "collapsed": false
   },
   "outputs": [],
   "source": [
    "df_posts = pd.read_csv(data_path + posts_file, sep='|')"
   ]
  },
  {
   "cell_type": "markdown",
   "metadata": {},
   "source": [
    "## 1. keywords\n",
    "How many of the accounts we have scraped use the word mother (or any forms like mum, mummy, mom, motherhood, mama…) and what percentage they represent from the entire set of accounts we have."
   ]
  },
  {
   "cell_type": "code",
   "execution_count": null,
   "metadata": {
    "collapsed": false
   },
   "outputs": [],
   "source": [
    "# lowercase\n",
    "cols = ['username', 'norm_biography']  # fullName is excluded because it often contains non-alphabetic characters\n",
    "res = lambda x: \" \".join(str(x).lower() for x in str(x).split())\n",
    "\n",
    "for col in cols:\n",
    "    df[col] = df[col].apply(res)\n",
    "\n",
    "df[cols].sample()"
   ]
  },
  {
   "cell_type": "code",
   "execution_count": null,
   "metadata": {
    "collapsed": false
   },
   "outputs": [],
   "source": [
    "import nltk\n",
    "# download to /home/marina/nltk_data\n",
    "nltk.download('wordnet')\n",
    "nltk.download('omw-1.4')  # Open Multilingual Wordnet for Italian and Spanish"
   ]
  },
  {
   "cell_type": "code",
   "execution_count": null,
   "metadata": {
    "collapsed": false
   },
   "outputs": [],
   "source": [
    "from nltk.corpus import wordnet as wn\n",
    "for lang in sorted(wn.langs()):\n",
    "    print(lang, type(wn.all_lemma_names(lang=lang)))  # list of languages in corpora"
   ]
  },
  {
   "cell_type": "code",
   "execution_count": null,
   "metadata": {
    "collapsed": false
   },
   "outputs": [],
   "source": [
    "# Check the post languages:\n",
    "print_value_counts(df, 'language')"
   ]
  },
  {
   "cell_type": "code",
   "execution_count": null,
   "metadata": {
    "collapsed": false
   },
   "outputs": [],
   "source": [
    "# Check the “pt” item and update with the correct language if needed:\n",
    "df.loc[df.language.isin(['pt'])]"
   ]
  },
  {
   "cell_type": "code",
   "execution_count": null,
   "metadata": {
    "collapsed": false
   },
   "outputs": [],
   "source": [
    "if not df.loc[df.language.isin(['pt'])].empty:\n",
    "    row_index = df.loc[df.language.isin(['pt'])].index[0]\n",
    "    # print(row_index)\n",
    "    df.loc[row_index,'language']=lan\n",
    "print_value_counts(df, 'language')"
   ]
  },
  {
   "cell_type": "code",
   "execution_count": null,
   "metadata": {
    "collapsed": false
   },
   "outputs": [],
   "source": [
    "# Check the “zh” item and update with the correct language if needed:\n",
    "df.loc[df.language.isin(['zh'])]"
   ]
  },
  {
   "cell_type": "code",
   "execution_count": null,
   "metadata": {
    "collapsed": false
   },
   "outputs": [],
   "source": [
    "if not df.loc[df.language.isin(['zh'])].empty:\n",
    "    row_index = df.loc[df.language.isin(['zh'])].index[0]\n",
    "    # print(row_index)\n",
    "    df.loc[row_index,'language']='en'\n",
    "print_value_counts(df, 'language')"
   ]
  },
  {
   "cell_type": "code",
   "execution_count": null,
   "metadata": {
    "collapsed": false
   },
   "outputs": [],
   "source": [
    "# store post languages\n",
    "lang_np_arr = df.language.unique()\n",
    "lang_list = (lang_np_arr[pd.isnull(lang_np_arr) == False]).tolist()\n",
    "if lan in lang_list:\n",
    "    lang_list.remove(lan)\n",
    "print(lang_list)"
   ]
  },
  {
   "cell_type": "code",
   "execution_count": null,
   "metadata": {
    "collapsed": false
   },
   "outputs": [],
   "source": [
    "# retrieve word synonyms to search in text\n",
    "# try different words in the same language to refine the match\n",
    "keywords_list = ['mamá', 'madre', 'papa', 'padre', 'maternidad', 'paternidad']\n",
    "\n",
    "def synonym_extractor(keyword, language):\n",
    "    synonyms = []\n",
    "    for syn in wn.synsets(keyword, lang=language):\n",
    "        for l in syn.lemmas(language):\n",
    "            synonyms.append(l.name())\n",
    "    return list(set(synonyms))"
   ]
  },
  {
   "cell_type": "code",
   "execution_count": null,
   "metadata": {
    "collapsed": false
   },
   "outputs": [],
   "source": [
    "syn_list = []\n",
    "\n",
    "for word in keywords_list:\n",
    "    syn_list.extend(synonym_extractor(keyword=word, language=\"spa\"))\n",
    "\n",
    "unique_synonyms_list = list(set(syn_list))\n",
    "unique_synonyms_list.sort()"
   ]
  },
  {
   "cell_type": "code",
   "execution_count": null,
   "metadata": {
    "collapsed": false
   },
   "outputs": [],
   "source": [
    "# Manual cleaning of irrelevant words\n",
    "diff_list = [x for x in syn_list if x not in keywords_list]\n",
    "diff_list.sort()\n",
    "print(\"Synonyms list:\")\n",
    "print(unique_synonyms_list)\n",
    "print(\"\\nAdded words list:\")\n",
    "print(diff_list)"
   ]
  },
  {
   "cell_type": "code",
   "execution_count": null,
   "metadata": {
    "collapsed": false
   },
   "outputs": [],
   "source": [
    "keywords_list.extend(['mama', 'papá'])\n",
    "keywords_list = list(set(keywords_list))\n",
    "keywords_list.sort()\n",
    "print(keywords_list)"
   ]
  },
  {
   "cell_type": "code",
   "execution_count": null,
   "metadata": {
    "collapsed": false
   },
   "outputs": [],
   "source": [
    "# translate keywords to other post languages\n",
    "from deep_translator import GoogleTranslator\n",
    "complete_keywords_list = []\n",
    "complete_keywords_list.extend(keywords_list)\n",
    "\n",
    "for lan in lang_list:\n",
    "    print(f\"\\nLanguage {lan}:\")\n",
    "    for word in keywords_list:\n",
    "        translated = GoogleTranslator(source='it', target=lan).translate(word)\n",
    "        print(word, ' -> ', translated)\n",
    "        complete_keywords_list.append(translated.lower())"
   ]
  },
  {
   "cell_type": "code",
   "execution_count": null,
   "metadata": {
    "collapsed": false
   },
   "outputs": [],
   "source": [
    "discarted_list = ['pope', 'popes']\n",
    "complete_keywords_list.extend(['mum', 'mummy', 'mother', 'motherhood', 'mom', 'parent', 'parenting', 'parenthood', 'father', 'dad', 'daddy', 'mama', 'dadda'])\n",
    "complete_keywords_list = list(set(complete_keywords_list))\n",
    "complete_keywords_list = [x for x in complete_keywords_list if x not in discarted_list]\n",
    "complete_keywords_list.sort()\n",
    "print(complete_keywords_list)"
   ]
  },
  {
   "cell_type": "code",
   "execution_count": null,
   "metadata": {
    "collapsed": false
   },
   "outputs": [],
   "source": [
    "match_str = \"|\".join(keywords_list)\n",
    "df_selected = df.loc[df['username'].str.contains(match_str, case=False) | df['norm_biography'].str.contains(match_str, case=False)]\n",
    "df_selected_unique = df_selected['username'].unique()\n",
    "print(f\"Number of accounts containing keywords: {df_selected_unique.shape[0]}\")"
   ]
  },
  {
   "cell_type": "code",
   "execution_count": null,
   "metadata": {
    "collapsed": false
   },
   "outputs": [],
   "source": [
    "df_selected.sample()"
   ]
  },
  {
   "cell_type": "code",
   "execution_count": null,
   "metadata": {
    "collapsed": false
   },
   "outputs": [],
   "source": [
    "print(f\"\\nProportion: {round(df_selected.shape[0] / df.shape[0] * 100, 1)}%\")"
   ]
  },
  {
   "cell_type": "markdown",
   "metadata": {
    "collapsed": false
   },
   "source": [
    "## 2. isBusinessAccount\n",
    "How many (and as a proportion of all the accounts) of the accounts we have selected are business accounts? How many of them has a business contact? How many of them where isBusinessAccount = False have posts with commercial_status =True, or is paid partnership =True or should request ads=True?"
   ]
  },
  {
   "cell_type": "code",
   "execution_count": null,
   "metadata": {
    "collapsed": false
   },
   "outputs": [],
   "source": [
    "print_value_counts(df, 'is_business_account')\n",
    "print(\"\\nProportion:\")\n",
    "print(f\"False: {round(df['is_business_account'].value_counts()[0] / df.shape[0] * 100, 1)}%\")\n",
    "print(f\"True: {round(df['is_business_account'].value_counts()[1] / df.shape[0] * 100, 1)}%\")"
   ]
  },
  {
   "cell_type": "code",
   "execution_count": null,
   "metadata": {
    "collapsed": false
   },
   "outputs": [],
   "source": [
    "sns.countplot(x='is_business_account', data=df)"
   ]
  },
  {
   "cell_type": "code",
   "execution_count": null,
   "metadata": {
    "collapsed": false
   },
   "outputs": [],
   "source": [
    "print_value_counts(df, 'business_contact')"
   ]
  },
  {
   "cell_type": "code",
   "execution_count": null,
   "metadata": {
    "collapsed": false
   },
   "outputs": [],
   "source": [
    "is_ba_and_bc = df[(df['is_business_account'] == True) & ((df['business_contact'] == 'CALL') | (df['business_contact'] == 'TEXT'))].shape[0]\n",
    "print(f\"Number of business accounts that have a business contact: {is_ba_and_bc}\")"
   ]
  },
  {
   "cell_type": "code",
   "execution_count": null,
   "metadata": {
    "collapsed": false
   },
   "outputs": [],
   "source": [
    "df_not_ba = df[df['is_business_account'] == False]"
   ]
  },
  {
   "cell_type": "code",
   "execution_count": null,
   "metadata": {
    "collapsed": false
   },
   "outputs": [],
   "source": [
    "not_ba_list = df_not_ba['username'].unique()\n",
    "print(f\"commerciality_status is always = not_commercial\")\n",
    "not_ba_and_is_paid_posts = df_posts[(df_posts['account'].isin(not_ba_list)) & df_posts['is_paid_partnership'] == True]\n",
    "print(f\"Number of posts of non business account having is_paid_partnership = True is: {not_ba_and_is_paid_posts.shape[0]}\")"
   ]
  },
  {
   "cell_type": "code",
   "execution_count": null,
   "metadata": {
    "collapsed": false
   },
   "outputs": [],
   "source": [
    "df_is_ba = df[df['is_business_account'] == False][['username', 'is_business_account']].reset_index()\n",
    "df_is_ba.rename(columns = {'username':'account'}, inplace = True)\n",
    "df_n_posts = df_posts.groupby(['account'], sort=False)['caption'].count().to_frame()\n",
    "df_n_is_paid_posts = df_posts.groupby(['account']).apply(lambda x: x[x['is_paid_partnership'] == True ]['is_paid_partnership'].sum()).reset_index()\n",
    "df_is_ba_and_paid = df_is_ba.merge(df_n_posts,on='account').merge(df_n_is_paid_posts,on='account')\n",
    "df_is_ba_and_paid = df_is_ba_and_paid.rename(columns={'caption' : 'n_posts', 0: 'n_is_paid'})\n",
    "df_is_ba_and_paid['perc'] = df_is_ba_and_paid['n_is_paid'] / df_is_ba_and_paid['n_posts'] * 100\n",
    "perc_is_paid_50 = df_is_ba_and_paid[df_is_ba_and_paid['perc'] > 50]\n",
    "perc_is_paid_10 = df_is_ba_and_paid[df_is_ba_and_paid['perc'] > 10]\n",
    "print(f'The number of accounts with is_business_account=False but with more than 50% of the posts with is_paid_partnership=True is {perc_is_paid_50.shape[0]}')\n",
    "print(f'The number of accounts with is_business_account=False but with more than 10% of the posts with is_paid_partnership=True is {perc_is_paid_10.shape[0]}')\n",
    "print(f'(Note: The proportion of is_paid_partnership is just 0.5%)')"
   ]
  },
  {
   "cell_type": "markdown",
   "metadata": {
    "collapsed": false
   },
   "source": [
    "## 3. categoryName\n",
    "What are the most popular categories and which is the relationship between this category and isBusinessAccount: is there a particular category or categories more common when isBusinessAccount is True?"
   ]
  },
  {
   "cell_type": "code",
   "execution_count": null,
   "metadata": {
    "collapsed": false
   },
   "outputs": [],
   "source": [
    "print_value_counts(df, 'category_name')"
   ]
  },
  {
   "cell_type": "code",
   "execution_count": null,
   "metadata": {
    "collapsed": false
   },
   "outputs": [],
   "source": [
    "print_value_counts(df, 'business_category_name')"
   ]
  },
  {
   "cell_type": "code",
   "execution_count": null,
   "metadata": {
    "collapsed": false
   },
   "outputs": [],
   "source": [
    "df_is_business_account = df[df['is_business_account'] == True]\n",
    "# df_is_business_account.shape\n",
    "print('Categories of accounts with is_business_account=True are:\\n')\n",
    "print_value_counts(df_is_business_account, 'business_category_name')\n",
    "print('\\n********************************\\n')\n",
    "print_value_counts(df_is_business_account, 'category_name')"
   ]
  },
  {
   "cell_type": "markdown",
   "metadata": {},
   "source": [
    "## 4. isVerified\n",
    "How many (and proportion of) are verified accounts."
   ]
  },
  {
   "cell_type": "code",
   "execution_count": null,
   "metadata": {
    "collapsed": false
   },
   "outputs": [],
   "source": [
    "print_value_counts(df, 'is_verified')\n",
    "print(\"\\nProportion:\")\n",
    "print(f\"False: {round(df['is_verified'].value_counts()[0] / df.shape[0] * 100, 1)}%\")\n",
    "print(f\"True: {round(df['is_verified'].value_counts()[1] / df.shape[0] * 100, 1)}%\")"
   ]
  },
  {
   "cell_type": "code",
   "execution_count": null,
   "metadata": {
    "collapsed": false
   },
   "outputs": [],
   "source": [
    "sns.countplot(x='is_verified', data=df)"
   ]
  },
  {
   "cell_type": "markdown",
   "metadata": {},
   "source": [
    "## 5. postsCount\n",
    "Distribution of the number of posts. Are the accounts with the highest number of posts also business accounts? What is the most common category for the accounts with the highest number of post (we could select 3rd quartile)."
   ]
  },
  {
   "cell_type": "code",
   "execution_count": null,
   "metadata": {
    "collapsed": false
   },
   "outputs": [],
   "source": [
    "df['posts_count'].describe()"
   ]
  },
  {
   "cell_type": "code",
   "execution_count": null,
   "metadata": {
    "collapsed": false
   },
   "outputs": [],
   "source": [
    "sns.displot(df, x=\"posts_count\")"
   ]
  },
  {
   "cell_type": "code",
   "execution_count": null,
   "metadata": {
    "collapsed": false
   },
   "outputs": [],
   "source": [
    "max_posts_count = df['posts_count'].max()\n",
    "max_posts_acc = df[df['posts_count'] == max_posts_count]['username'].values[0]\n",
    "df.nlargest(40, ['posts_count'])\n",
    "threshold = df['posts_count'].describe()['75%']\n",
    "df_acc_highest_posts_count = df[df['posts_count'] >= threshold].sort_values(by='posts_count', ascending=False)\n",
    "highest_posts = df_acc_highest_posts_count.shape[0]\n",
    "highest_posts_is_business = df_acc_highest_posts_count[df_acc_highest_posts_count['is_business_account'] == True].shape[0]\n",
    "print(f\"The maximum value for posts_count is {max_posts_count} and belongs to account {max_posts_acc}\")\n",
    "print(f\"Number of accounts with posts_count >= {threshold} is {highest_posts} ({highest_posts_is_business} of them have is_business_account = True)\")\n",
    "print(\"For these accounts most common categories are:\")\n",
    "for idx, name in enumerate(df_acc_highest_posts_count['category_name'].value_counts().index.tolist()):\n",
    "    if idx < 2:\n",
    "        print(f\"{name}: {df_acc_highest_posts_count['category_name'].value_counts()[idx]}\")"
   ]
  },
  {
   "cell_type": "markdown",
   "metadata": {
    "collapsed": false
   },
   "source": [
    "## 6. subscribersCount and Subscribtions\n",
    "Distribution of the accounts by the number of followers and compared to the subscriptions. Check if those with the highest numbers are business accounts or what is the transparency tag."
   ]
  },
  {
   "cell_type": "code",
   "execution_count": null,
   "metadata": {
    "collapsed": false
   },
   "outputs": [],
   "source": [
    "sns.pairplot(df, hue='is_business_account', vars=['subscribers_count', 'subscribtions'], height=3.5)"
   ]
  },
  {
   "cell_type": "markdown",
   "metadata": {
    "collapsed": false
   },
   "source": [
    "## 7. transparencyProduct\n",
    "What are the options in this category? At the moment I can only see “STATE_CONTROLLED_MEDIA”. How many of the accounts we have are labeled as “state controlled media”. Are these accounts also business accounts? Are verified? Has these accounts the word mummy in the biography?"
   ]
  },
  {
   "cell_type": "code",
   "execution_count": null,
   "metadata": {
    "collapsed": false,
    "jupyter": {
     "outputs_hidden": false
    }
   },
   "outputs": [],
   "source": [
    "csv_files = ['kids-sole_profiles.csv', 'kids-sky-news_profiles.csv', 'kids-infobae_profiles.csv']\n",
    "df_list = (pd.read_csv(data_path + file, sep='|') for file in csv_files)\n",
    "df_all = pd.concat(df_list, ignore_index=True)\n",
    "df_all.shape"
   ]
  },
  {
   "cell_type": "code",
   "execution_count": null,
   "metadata": {
    "collapsed": false
   },
   "outputs": [],
   "source": [
    "print(\"In the complete profile dataset values are:\")\n",
    "print_value_counts(df_all, 'transparency_product')\n",
    "print(\"\\n\")\n",
    "print_value_counts(df_all, 'transparency_label')"
   ]
  }
 ],
 "metadata": {
  "kernelspec": {
   "display_name": "Python 3 (ipykernel)",
   "language": "python",
   "name": "python3"
  },
  "language_info": {
   "codemirror_mode": {
    "name": "ipython",
    "version": 3
   },
   "file_extension": ".py",
   "mimetype": "text/x-python",
   "name": "python",
   "nbconvert_exporter": "python",
   "pygments_lexer": "ipython3",
   "version": "3.10.6"
  },
  "vscode": {
   "interpreter": {
    "hash": "916dbcbb3f70747c44a77c7bcd40155683ae19c65e1c03b4aa3499c5328201f1"
   }
  }
 },
 "nbformat": 4,
 "nbformat_minor": 4
}
